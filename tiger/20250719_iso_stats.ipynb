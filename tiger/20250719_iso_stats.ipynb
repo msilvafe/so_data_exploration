{
 "cells": [
  {
   "cell_type": "code",
   "execution_count": 1,
   "id": "47289989-eee1-4f3e-a959-52e42cb5c2fc",
   "metadata": {},
   "outputs": [],
   "source": [
    "import numpy as np\n",
    "import os\n",
    "import argparse\n",
    "import traceback\n",
    "import time\n",
    "import h5py\n",
    "import sqlite3\n",
    "import sys\n",
    "\n",
    "from sotodlib import core\n",
    "from sotodlib.core.flagman import has_all_cut, has_any_cuts, count_cuts\n",
    "import sotodlib.site_pipeline.util as sp_util\n",
    "from sotodlib.preprocess import preprocess_util\n",
    "from so3g.proj import Ranges, RangesMatrix"
   ]
  },
  {
   "cell_type": "markdown",
   "id": "08f55d60-80a5-4464-91c5-c4ce299c7287",
   "metadata": {},
   "source": [
    "# Example of Querying Stored Data"
   ]
  },
  {
   "cell_type": "code",
   "execution_count": 12,
   "id": "6752f35e-1bb3-4f3b-b3f6-ca1e31548522",
   "metadata": {},
   "outputs": [
    {
     "name": "stdout",
     "output_type": "stream",
     "text": [
      "obsid: obs_1734310353_satp1_1111111\n",
      "ws: ws0\n",
      "band: f090\n",
      "nsamps: 527018\n",
      "ndets: 714\n",
      "fp_cuts: 0\n",
      "trend_cuts: 0\n",
      "turnaround_nsamps: 5302260\n",
      "jumps_slow_nsamps: 0\n",
      "jumps_slow_cuts: 0\n",
      "jumps_2pi_nsamps: 1353\n",
      "jumps_2pi_cuts: 0\n",
      "glitch_nsamps: 174043\n",
      "glitch_cuts: 0\n",
      "det_bias_cuts: 140\n",
      "ptp_cuts: 6\n",
      "white_noise_cuts: 24\n",
      "edge_nsamps: 4543978\n",
      "inv_var_cuts: 23\n",
      "TOD_stats_T_det_cut: 0\n",
      "TOD_stats_Q_det_cut: 0\n",
      "TOD_stats_U_det_cut: 0\n",
      "noisy_subscans_nsamps: 29272558\n",
      "noisy_subscans_cuts: 89\n",
      "source_flags_nsamps: 0\n",
      "source_flags_cuts: 0\n",
      "end_yield: 405\n"
     ]
    }
   ],
   "source": [
    "sqlite_path = '/scratch/gpfs/SIMONSOBS/users/ms3067/iso_stats/v1/20250718_cut_stats_satp1.sqlite'\n",
    "conn = sqlite3.connect(sqlite_path)\n",
    "cur = conn.cursor()\n",
    "\n",
    "cur.execute('PRAGMA table_info(results)')\n",
    "keys = [row[1] for row in cur.fetchall()]\n",
    "\n",
    "obs_id = 'obs_1734310353_satp1_1111111'\n",
    "cur.execute('SELECT * FROM results WHERE obsid=?', (obs_id,))\n",
    "row = cur.fetchone()\n",
    "conn.close()\n",
    "\n",
    "for key, val in zip(keys, row):\n",
    "    if isinstance(val, bytes):\n",
    "        # I'm skipping the stuff stored as bytes\n",
    "        # I tried to store numpy arrays but didn't do the datatype conversion right\n",
    "        continue\n",
    "        # arr = np.frombuffer(val, dtype=np.float32)\n",
    "        # print(f\"{key}: {arr}\")\n",
    "    else:\n",
    "        print(f\"{key}: {val}\")"
   ]
  },
  {
   "cell_type": "markdown",
   "id": "1b622cd7-8ca5-4a60-bf0b-eab34942a021",
   "metadata": {},
   "source": [
    "# Detector Cuts"
   ]
  },
  {
   "cell_type": "code",
   "execution_count": 2,
   "id": "3e699275-54db-4a45-b322-c4c62923ec6a",
   "metadata": {},
   "outputs": [
    {
     "name": "stdout",
     "output_type": "stream",
     "text": [
      "fp_cuts: Total Fraction=0.000%, Cuts Fraction=0.000%\n",
      "trend_cuts: Total Fraction=0.011%, Cuts Fraction=0.020%\n",
      "jumps_slow_cuts: Total Fraction=0.009%, Cuts Fraction=0.017%\n",
      "jumps_2pi_cuts: Total Fraction=0.062%, Cuts Fraction=0.113%\n",
      "glitch_cuts: Total Fraction=0.000%, Cuts Fraction=0.000%\n",
      "det_bias_cuts: Total Fraction=35.221%, Cuts Fraction=63.755%\n",
      "ptp_cuts: Total Fraction=4.680%, Cuts Fraction=8.472%\n",
      "white_noise_cuts: Total Fraction=7.031%, Cuts Fraction=12.727%\n",
      "inv_var_cuts: Total Fraction=1.193%, Cuts Fraction=2.160%\n",
      "noisy_subscans_cuts: Total Fraction=7.037%, Cuts Fraction=12.738%\n",
      "source_flags_cuts: Total Fraction=0.000%, Cuts Fraction=0.000%\n",
      "____________________________________________________________\n",
      "total_ndets: 21370008\n",
      "sum_of_all_cuts: 11805677\n",
      "Det Cut Fraction: 55.24%\n"
     ]
    }
   ],
   "source": [
    "sqlite_path = '/scratch/gpfs/SIMONSOBS/users/ms3067/iso_stats/v1/20250718_cut_stats_satp1.sqlite'\n",
    "start_ts = 1716177600  # <-- set your start timestamp here (as int)\n",
    "end_ts = 1734315803    # <-- set your end timestamp here (as int)\n",
    "conn = sqlite3.connect(sqlite_path)\n",
    "cur = conn.cursor()\n",
    "\n",
    "cur.execute('PRAGMA table_info(results)')\n",
    "columns = [row[1] for row in cur.fetchall()]\n",
    "cut_keys = [k for k in columns if 'cuts' in k]\n",
    "\n",
    "# Build the query to get all cut columns and end_yield at once\n",
    "query = f\"\"\"\n",
    "SELECT {', '.join(cut_keys)}, ndets FROM results\n",
    "WHERE CAST(substr(obsid, 5, 10) AS INTEGER) BETWEEN ? AND ?\n",
    "\"\"\"\n",
    "cur.execute(query, (start_ts, end_ts))\n",
    "\n",
    "# Use zip(*cur) to transpose rows to columns, then cast all to int\n",
    "columns = zip(*cur)\n",
    "cut_sums = [sum(x for x in col) for col in columns]\n",
    "\n",
    "# The last element is the sum of end_yield, the rest are the sums for each cut_key\n",
    "*cut_sums, total_end_yield = cut_sums\n",
    "sum_of_all_cuts = sum(cut_sums)\n",
    "\n",
    "ratios = [cut_sum / total_end_yield if total_end_yield else float('nan') for cut_sum in cut_sums]\n",
    "fractions = [cut_sum / sum_of_all_cuts if sum_of_all_cuts else float('nan') for cut_sum in cut_sums]\n",
    "\n",
    "conn.close()\n",
    "\n",
    "for key, cut_sum, ratio, fraction in zip(cut_keys, cut_sums, ratios, fractions):\n",
    "    #print(f\"{key}: sum={cut_sum}, sum/total_end_yield={ratio:.4f}, sum/sum_of_all_cuts={fraction:.4f}\")\n",
    "    print(f\"{key}: Total Fraction={ratio*100:.3f}%, Cuts Fraction={fraction*100:.3f}%\")\n",
    "\n",
    "print(\"_\"*60)\n",
    "print(f\"total_ndets: {total_end_yield}\")\n",
    "print(f\"sum_of_all_cuts: {sum_of_all_cuts}\")\n",
    "print(f\"Det Cut Fraction: {100*sum_of_all_cuts/total_end_yield:.2f}%\")"
   ]
  },
  {
   "cell_type": "code",
   "execution_count": 8,
   "id": "62eab21e-4581-43e1-81f6-0544d324ef9a",
   "metadata": {},
   "outputs": [
    {
     "name": "stdout",
     "output_type": "stream",
     "text": [
      "fp_cuts: Total Fraction=0.000%, Cuts Fraction=0.000%\n",
      "trend_cuts: Total Fraction=0.028%, Cuts Fraction=0.115%\n",
      "jumps_slow_cuts: Total Fraction=0.000%, Cuts Fraction=0.000%\n",
      "jumps_2pi_cuts: Total Fraction=0.020%, Cuts Fraction=0.083%\n",
      "glitch_cuts: Total Fraction=0.000%, Cuts Fraction=0.000%\n",
      "det_bias_cuts: Total Fraction=15.941%, Cuts Fraction=66.149%\n",
      "ptp_cuts: Total Fraction=2.013%, Cuts Fraction=8.353%\n",
      "white_noise_cuts: Total Fraction=3.087%, Cuts Fraction=12.811%\n",
      "inv_var_cuts: Total Fraction=1.158%, Cuts Fraction=4.804%\n",
      "noisy_subscans_cuts: Total Fraction=1.852%, Cuts Fraction=7.686%\n",
      "source_flags_cuts: Total Fraction=0.000%, Cuts Fraction=0.000%\n",
      "____________________________________________________________\n",
      "total_ndets: 14751680\n",
      "sum_of_all_cuts: 3554860\n",
      "Det Cut Fraction: 24.10%\n"
     ]
    }
   ],
   "source": [
    "sqlite_path = '/scratch/gpfs/SIMONSOBS/users/ms3067/iso_stats/v1/20250718_cut_stats_satp3.sqlite'\n",
    "start_ts = 1722484800  # <-- set your start timestamp here (as int)\n",
    "end_ts = 1734315803    # <-- set your end timestamp here (as int)\n",
    "conn = sqlite3.connect(sqlite_path)\n",
    "cur = conn.cursor()\n",
    "\n",
    "cur.execute('PRAGMA table_info(results)')\n",
    "columns = [row[1] for row in cur.fetchall()]\n",
    "cut_keys = [k for k in columns if 'cuts' in k]\n",
    "\n",
    "# Build the query to get all cut columns and end_yield at once\n",
    "query = f\"\"\"\n",
    "SELECT {', '.join(cut_keys)}, ndets FROM results\n",
    "WHERE CAST(substr(obsid, 5, 10) AS INTEGER) BETWEEN ? AND ?\n",
    "\"\"\"\n",
    "cur.execute(query, (start_ts, end_ts))\n",
    "\n",
    "# Use zip(*cur) to transpose rows to columns, then cast all to int\n",
    "columns = zip(*cur)\n",
    "cut_sums = [sum(x for x in col) for col in columns]\n",
    "\n",
    "# The last element is the sum of end_yield, the rest are the sums for each cut_key\n",
    "*cut_sums, total_end_yield = cut_sums\n",
    "sum_of_all_cuts = sum(cut_sums)\n",
    "\n",
    "ratios = [cut_sum / total_end_yield if total_end_yield else float('nan') for cut_sum in cut_sums]\n",
    "fractions = [cut_sum / sum_of_all_cuts if sum_of_all_cuts else float('nan') for cut_sum in cut_sums]\n",
    "\n",
    "conn.close()\n",
    "\n",
    "for key, cut_sum, ratio, fraction in zip(cut_keys, cut_sums, ratios, fractions):\n",
    "    #print(f\"{key}: sum={cut_sum}, sum/total_end_yield={ratio:.4f}, sum/sum_of_all_cuts={fraction:.4f}\")\n",
    "    print(f\"{key}: Total Fraction={ratio*100:.3f}%, Cuts Fraction={fraction*100:.3f}%\")\n",
    "\n",
    "print(\"_\"*60)\n",
    "print(f\"total_ndets: {total_end_yield}\")\n",
    "print(f\"sum_of_all_cuts: {sum_of_all_cuts}\")\n",
    "print(f\"Det Cut Fraction: {100*sum_of_all_cuts/total_end_yield:.2f}%\")"
   ]
  },
  {
   "cell_type": "markdown",
   "id": "91ed2f59-7a74-40eb-8a61-1abaa2e52064",
   "metadata": {},
   "source": [
    "# Sample Cuts"
   ]
  },
  {
   "cell_type": "code",
   "execution_count": 5,
   "id": "48baec78-0597-477b-9139-4ee9095d69f9",
   "metadata": {},
   "outputs": [
    {
     "name": "stdout",
     "output_type": "stream",
     "text": [
      "turnaround_nsamps: Total Fraction=3.502%, Cuts Fraction=18.641%\n",
      "jumps_slow_nsamps: Total Fraction=0.001%, Cuts Fraction=0.005%\n",
      "jumps_2pi_nsamps: Total Fraction=0.000%, Cuts Fraction=0.003%\n",
      "glitch_nsamps: Total Fraction=0.171%, Cuts Fraction=0.908%\n",
      "edge_nsamps: Total Fraction=1.716%, Cuts Fraction=9.137%\n",
      "noisy_subscans_nsamps: Total Fraction=13.394%, Cuts Fraction=71.305%\n",
      "source_flags_nsamps: Total Fraction=0.000%, Cuts Fraction=0.001%\n",
      "____________________________________________________________\n",
      "total_nsamps*end_yield: 5799123481359\n",
      "sum_of_all_samp_cuts: 1089338100622\n",
      "Samp Cut Fraction: 18.78%\n"
     ]
    }
   ],
   "source": [
    "sqlite_path = '/scratch/gpfs/SIMONSOBS/users/ms3067/iso_stats/v1/20250718_cut_stats_satp1.sqlite'\n",
    "start_ts = 1716177600\n",
    "end_ts = 1734315803\n",
    "conn = sqlite3.connect(sqlite_path)\n",
    "cur = conn.cursor()\n",
    "\n",
    "cur.execute('PRAGMA table_info(results)')\n",
    "columns = [row[1] for row in cur.fetchall()]\n",
    "cut_keys = [k for k in columns if ('nsamps' in k) & (k != 'nsamps')]\n",
    "\n",
    "# Build the query to get all cut columns, nsamps, and end_yield at once\n",
    "query = f\"\"\"\n",
    "SELECT {', '.join(cut_keys)}, nsamps, end_yield FROM results\n",
    "WHERE CAST(substr(obsid, 5, 10) AS INTEGER) BETWEEN ? AND ?\n",
    "\"\"\"\n",
    "cur.execute(query, (start_ts, end_ts))\n",
    "\n",
    "# Fetch all rows\n",
    "rows = list(cur)\n",
    "\n",
    "# Transpose to columns for cuts, and keep nsamps and end_yield columns\n",
    "cut_cols = list(zip(*rows))\n",
    "cut_sums = [sum(int(x) for x in col) for col in cut_cols[:-2]]  # all cut_keys\n",
    "nsamps_col = cut_cols[-2]\n",
    "end_yield_col = cut_cols[-1]\n",
    "\n",
    "# Compute total_end_yield as sum(nsamps * end_yield) over all rows\n",
    "total_end_yield = sum(int(n) * int(e) for n, e in zip(nsamps_col, end_yield_col))\n",
    "sum_of_all_cuts = sum(cut_sums)\n",
    "\n",
    "ratios = [cut_sum / total_end_yield if total_end_yield else float('nan') for cut_sum in cut_sums]\n",
    "fractions = [cut_sum / sum_of_all_cuts if sum_of_all_cuts else float('nan') for cut_sum in cut_sums]\n",
    "\n",
    "conn.close()\n",
    "\n",
    "for key, cut_sum, ratio, fraction in zip(cut_keys, cut_sums, ratios, fractions):\n",
    "    print(f\"{key}: Total Fraction={ratio*100:.3f}%, Cuts Fraction={fraction*100:.3f}%\")\n",
    "\n",
    "print(\"_\"*60)\n",
    "print(f\"total_nsamps*end_yield: {total_end_yield}\")\n",
    "print(f\"sum_of_all_samp_cuts: {sum_of_all_cuts}\")\n",
    "print(f\"Samp Cut Fraction: {100*sum_of_all_cuts/total_end_yield:.2f}%\")"
   ]
  },
  {
   "cell_type": "code",
   "execution_count": 6,
   "id": "10f41fbb-c93c-4a03-bfc8-b705c19ca090",
   "metadata": {},
   "outputs": [
    {
     "name": "stdout",
     "output_type": "stream",
     "text": [
      "turnaround_nsamps: Total Fraction=2.473%, Cuts Fraction=21.838%\n",
      "jumps_slow_nsamps: Total Fraction=0.000%, Cuts Fraction=0.001%\n",
      "jumps_2pi_nsamps: Total Fraction=0.000%, Cuts Fraction=0.004%\n",
      "glitch_nsamps: Total Fraction=0.215%, Cuts Fraction=1.897%\n",
      "edge_nsamps: Total Fraction=1.724%, Cuts Fraction=15.220%\n",
      "noisy_subscans_nsamps: Total Fraction=6.913%, Cuts Fraction=61.040%\n",
      "source_flags_nsamps: Total Fraction=0.000%, Cuts Fraction=0.000%\n",
      "____________________________________________________________\n",
      "total_nsamps*end_yield: 7114914515795\n",
      "sum_of_all_samp_cuts: 805795747748\n",
      "Samp Cut Fraction: 11.33%\n"
     ]
    }
   ],
   "source": [
    "sqlite_path = '/scratch/gpfs/SIMONSOBS/users/ms3067/iso_stats/v1/20250718_cut_stats_satp3.sqlite'\n",
    "start_ts = 1722484800  # <-- set your start timestamp here (as int)\n",
    "end_ts = 1734315803    # <-- set your end timestamp here (as int)\n",
    "conn = sqlite3.connect(sqlite_path)\n",
    "cur = conn.cursor()\n",
    "\n",
    "cur.execute('PRAGMA table_info(results)')\n",
    "columns = [row[1] for row in cur.fetchall()]\n",
    "cut_keys = [k for k in columns if ('nsamps' in k) & (k != 'nsamps')]\n",
    "\n",
    "# Build the query to get all cut columns, nsamps, and end_yield at once\n",
    "query = f\"\"\"\n",
    "SELECT {', '.join(cut_keys)}, nsamps, end_yield FROM results\n",
    "WHERE CAST(substr(obsid, 5, 10) AS INTEGER) BETWEEN ? AND ?\n",
    "\"\"\"\n",
    "cur.execute(query, (start_ts, end_ts))\n",
    "\n",
    "# Fetch all rows\n",
    "rows = list(cur)\n",
    "\n",
    "# Transpose to columns for cuts, and keep nsamps and end_yield columns\n",
    "cut_cols = list(zip(*rows))\n",
    "cut_sums = [sum(int(x) for x in col) for col in cut_cols[:-2]]  # all cut_keys\n",
    "nsamps_col = cut_cols[-2]\n",
    "end_yield_col = cut_cols[-1]\n",
    "\n",
    "# Compute total_end_yield as sum(nsamps * end_yield) over all rows\n",
    "total_end_yield = sum(int(n) * int(e) for n, e in zip(nsamps_col, end_yield_col))\n",
    "sum_of_all_cuts = sum(cut_sums)\n",
    "\n",
    "ratios = [cut_sum / total_end_yield if total_end_yield else float('nan') for cut_sum in cut_sums]\n",
    "fractions = [cut_sum / sum_of_all_cuts if sum_of_all_cuts else float('nan') for cut_sum in cut_sums]\n",
    "\n",
    "conn.close()\n",
    "\n",
    "for key, cut_sum, ratio, fraction in zip(cut_keys, cut_sums, ratios, fractions):\n",
    "    print(f\"{key}: Total Fraction={ratio*100:.3f}%, Cuts Fraction={fraction*100:.3f}%\")\n",
    "\n",
    "print(\"_\"*60)\n",
    "print(f\"total_nsamps*end_yield: {total_end_yield}\")\n",
    "print(f\"sum_of_all_samp_cuts: {sum_of_all_cuts}\")\n",
    "print(f\"Samp Cut Fraction: {100*sum_of_all_cuts/total_end_yield:.2f}%\")"
   ]
  },
  {
   "cell_type": "markdown",
   "id": "e54e486a-7837-4c75-bdb7-5fb9913c5dea",
   "metadata": {},
   "source": []
  },
  {
   "cell_type": "markdown",
   "id": "a1032171-750c-49bb-a426-5eda18dd2d0a",
   "metadata": {},
   "source": [
    "# Finding Largest Yield Obs"
   ]
  },
  {
   "cell_type": "code",
   "execution_count": 14,
   "id": "22426637-87d5-48de-952a-6c751ed75a4c",
   "metadata": {},
   "outputs": [
    {
     "name": "stdout",
     "output_type": "stream",
     "text": [
      "ws: ws0, obsid: obs_1730954780_satp1_1111111, band: f150, end_yield: 523\n"
     ]
    }
   ],
   "source": [
    "sqlite_path = '/scratch/gpfs/SIMONSOBS/users/ms3067/iso_stats/v1/20250718_cut_stats_satp1.sqlite'\n",
    "start_ts = 1716177600\n",
    "end_ts = 1734315803\n",
    "ws_value = 'ws0'  # Replace with the ws you want to select\n",
    "\n",
    "conn = sqlite3.connect(sqlite_path)\n",
    "cur = conn.cursor()\n",
    "\n",
    "cur.execute(\n",
    "    'SELECT obsid, band, end_yield FROM results WHERE ws=? ORDER BY end_yield DESC LIMIT 1',\n",
    "    (ws_value,)\n",
    ")\n",
    "row = cur.fetchone()\n",
    "if row:\n",
    "    obsid, band, end_yield = row\n",
    "    print(f\"ws: {ws_value}, obsid: {obsid}, band: {band}, end_yield: {end_yield}\")\n",
    "else:\n",
    "    print(f\"No rows found for ws={ws_value}\")\n",
    "\n",
    "conn.close()"
   ]
  },
  {
   "cell_type": "code",
   "execution_count": 4,
   "id": "b97ff42f-957b-4705-87d8-be3f93a9c966",
   "metadata": {},
   "outputs": [
    {
     "name": "stdout",
     "output_type": "stream",
     "text": [
      "Rows with maximum end_yield (703):\n",
      "obsid: obs_1718789308_satp1_1111111, ws: ws2, band: f150\n"
     ]
    }
   ],
   "source": [
    "import sqlite3\n",
    "\n",
    "sqlite_path = '/scratch/gpfs/SIMONSOBS/users/ms3067/iso_stats/v1/20250718_cut_stats_satp1.sqlite'\n",
    "conn = sqlite3.connect(sqlite_path)\n",
    "cur = conn.cursor()\n",
    "\n",
    "# Find the maximum end_yield value\n",
    "cur.execute('SELECT MAX(end_yield) FROM results')\n",
    "max_end_yield = cur.fetchone()[0]\n",
    "\n",
    "# Get all rows with that maximum end_yield\n",
    "cur.execute('SELECT obsid, ws, band FROM results WHERE end_yield=?', (max_end_yield,))\n",
    "rows = cur.fetchall()\n",
    "\n",
    "print(f\"Rows with maximum end_yield ({max_end_yield}):\")\n",
    "for obsid, ws, band in rows:\n",
    "    print(f\"obsid: {obsid}, ws: {ws}, band: {band}\")\n",
    "\n",
    "conn.close()"
   ]
  },
  {
   "cell_type": "code",
   "execution_count": 1,
   "id": "8ae89842-e109-4fc2-be22-bc69fc60bd6f",
   "metadata": {},
   "outputs": [
    {
     "name": "stdout",
     "output_type": "stream",
     "text": [
      "Rows with maximum end_yield (774):\n",
      "obsid: obs_1733534371_satp3_1111111, ws: ws6, band: f150\n"
     ]
    }
   ],
   "source": [
    "import sqlite3\n",
    "\n",
    "sqlite_path = '/scratch/gpfs/SIMONSOBS/users/ms3067/iso_stats/v1/20250718_cut_stats_satp3.sqlite'\n",
    "conn = sqlite3.connect(sqlite_path)\n",
    "cur = conn.cursor()\n",
    "\n",
    "# Find the maximum end_yield value\n",
    "cur.execute('SELECT MAX(end_yield) FROM results')\n",
    "max_end_yield = cur.fetchone()[0]\n",
    "\n",
    "# Get all rows with that maximum end_yield\n",
    "cur.execute('SELECT obsid, ws, band FROM results WHERE end_yield=?', (max_end_yield,))\n",
    "rows = cur.fetchall()\n",
    "\n",
    "print(f\"Rows with maximum end_yield ({max_end_yield}):\")\n",
    "for obsid, ws, band in rows:\n",
    "    print(f\"obsid: {obsid}, ws: {ws}, band: {band}\")\n",
    "\n",
    "conn.close()"
   ]
  },
  {
   "cell_type": "code",
   "execution_count": null,
   "id": "5485dd19-579f-44fc-acc4-9756287367aa",
   "metadata": {},
   "outputs": [],
   "source": []
  }
 ],
 "metadata": {
  "kernelspec": {
   "display_name": "Python 3 (ipykernel)",
   "language": "python",
   "name": "python3"
  },
  "language_info": {
   "codemirror_mode": {
    "name": "ipython",
    "version": 3
   },
   "file_extension": ".py",
   "mimetype": "text/x-python",
   "name": "python",
   "nbconvert_exporter": "python",
   "pygments_lexer": "ipython3",
   "version": "3.12.11"
  }
 },
 "nbformat": 4,
 "nbformat_minor": 5
}
